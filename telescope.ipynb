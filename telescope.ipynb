{
  "nbformat": 4,
  "nbformat_minor": 0,
  "metadata": {
    "colab": {
      "provenance": [],
      "authorship_tag": "ABX9TyMHoPecKY01YIlBENUGCOr7",
      "include_colab_link": true
    },
    "kernelspec": {
      "name": "python3",
      "display_name": "Python 3"
    },
    "language_info": {
      "name": "python"
    },
    "accelerator": "GPU"
  },
  "cells": [
    {
      "cell_type": "markdown",
      "metadata": {
        "id": "view-in-github",
        "colab_type": "text"
      },
      "source": [
        "<a href=\"https://colab.research.google.com/github/SHAHAL-K/tens/blob/main/telescope.ipynb\" target=\"_parent\"><img src=\"https://colab.research.google.com/assets/colab-badge.svg\" alt=\"Open In Colab\"/></a>"
      ]
    },
    {
      "cell_type": "code",
      "execution_count": 1,
      "metadata": {
        "id": "pUcBmipleWOQ"
      },
      "outputs": [],
      "source": [
        "import pandas as pd\n",
        "import numpy as np"
      ]
    },
    {
      "cell_type": "code",
      "source": [
        "data=pd.read_csv('/content/magic_gamma_telescope04_.csv')"
      ],
      "metadata": {
        "id": "KwxL8mnne6Oy"
      },
      "execution_count": 2,
      "outputs": []
    },
    {
      "cell_type": "code",
      "source": [
        "data.head()"
      ],
      "metadata": {
        "colab": {
          "base_uri": "https://localhost:8080/",
          "height": 206
        },
        "id": "pjaAz0exfKxH",
        "outputId": "2a5476a9-6b8d-4312-ddfa-c20ee4d4b46a"
      },
      "execution_count": 3,
      "outputs": [
        {
          "output_type": "execute_result",
          "data": {
            "text/plain": [
              "    flength    fwidth   fsize   fconc  fconc1      fsym  fm3long  fm3trans  \\\n",
              "0   28.7967   16.0021  2.6449  0.3918  0.1982   27.7004  22.0110   -8.2027   \n",
              "1   31.6036   11.7235  2.5185  0.5303  0.3773   26.2722  23.8238   -9.9574   \n",
              "2  162.0520  136.0310  4.0612  0.0374  0.0187  116.7410 -64.8580  -45.2160   \n",
              "3   23.8172    9.5728  2.3385  0.6147  0.3922   27.2107  -6.4633   -7.1513   \n",
              "4   75.1362   30.9205  3.1611  0.3168  0.1832   -5.5277  28.5525   21.8393   \n",
              "\n",
              "    falpha      dist class  \n",
              "0  40.0920   81.8828     g  \n",
              "1   6.3609  205.2610     g  \n",
              "2  76.9600  256.7880     g  \n",
              "3  10.4490  116.7370     g  \n",
              "4   4.6480  356.4620     g  "
            ],
            "text/html": [
              "\n",
              "  <div id=\"df-66c77707-dd48-4824-af51-58f5182144a1\">\n",
              "    <div class=\"colab-df-container\">\n",
              "      <div>\n",
              "<style scoped>\n",
              "    .dataframe tbody tr th:only-of-type {\n",
              "        vertical-align: middle;\n",
              "    }\n",
              "\n",
              "    .dataframe tbody tr th {\n",
              "        vertical-align: top;\n",
              "    }\n",
              "\n",
              "    .dataframe thead th {\n",
              "        text-align: right;\n",
              "    }\n",
              "</style>\n",
              "<table border=\"1\" class=\"dataframe\">\n",
              "  <thead>\n",
              "    <tr style=\"text-align: right;\">\n",
              "      <th></th>\n",
              "      <th>flength</th>\n",
              "      <th>fwidth</th>\n",
              "      <th>fsize</th>\n",
              "      <th>fconc</th>\n",
              "      <th>fconc1</th>\n",
              "      <th>fsym</th>\n",
              "      <th>fm3long</th>\n",
              "      <th>fm3trans</th>\n",
              "      <th>falpha</th>\n",
              "      <th>dist</th>\n",
              "      <th>class</th>\n",
              "    </tr>\n",
              "  </thead>\n",
              "  <tbody>\n",
              "    <tr>\n",
              "      <th>0</th>\n",
              "      <td>28.7967</td>\n",
              "      <td>16.0021</td>\n",
              "      <td>2.6449</td>\n",
              "      <td>0.3918</td>\n",
              "      <td>0.1982</td>\n",
              "      <td>27.7004</td>\n",
              "      <td>22.0110</td>\n",
              "      <td>-8.2027</td>\n",
              "      <td>40.0920</td>\n",
              "      <td>81.8828</td>\n",
              "      <td>g</td>\n",
              "    </tr>\n",
              "    <tr>\n",
              "      <th>1</th>\n",
              "      <td>31.6036</td>\n",
              "      <td>11.7235</td>\n",
              "      <td>2.5185</td>\n",
              "      <td>0.5303</td>\n",
              "      <td>0.3773</td>\n",
              "      <td>26.2722</td>\n",
              "      <td>23.8238</td>\n",
              "      <td>-9.9574</td>\n",
              "      <td>6.3609</td>\n",
              "      <td>205.2610</td>\n",
              "      <td>g</td>\n",
              "    </tr>\n",
              "    <tr>\n",
              "      <th>2</th>\n",
              "      <td>162.0520</td>\n",
              "      <td>136.0310</td>\n",
              "      <td>4.0612</td>\n",
              "      <td>0.0374</td>\n",
              "      <td>0.0187</td>\n",
              "      <td>116.7410</td>\n",
              "      <td>-64.8580</td>\n",
              "      <td>-45.2160</td>\n",
              "      <td>76.9600</td>\n",
              "      <td>256.7880</td>\n",
              "      <td>g</td>\n",
              "    </tr>\n",
              "    <tr>\n",
              "      <th>3</th>\n",
              "      <td>23.8172</td>\n",
              "      <td>9.5728</td>\n",
              "      <td>2.3385</td>\n",
              "      <td>0.6147</td>\n",
              "      <td>0.3922</td>\n",
              "      <td>27.2107</td>\n",
              "      <td>-6.4633</td>\n",
              "      <td>-7.1513</td>\n",
              "      <td>10.4490</td>\n",
              "      <td>116.7370</td>\n",
              "      <td>g</td>\n",
              "    </tr>\n",
              "    <tr>\n",
              "      <th>4</th>\n",
              "      <td>75.1362</td>\n",
              "      <td>30.9205</td>\n",
              "      <td>3.1611</td>\n",
              "      <td>0.3168</td>\n",
              "      <td>0.1832</td>\n",
              "      <td>-5.5277</td>\n",
              "      <td>28.5525</td>\n",
              "      <td>21.8393</td>\n",
              "      <td>4.6480</td>\n",
              "      <td>356.4620</td>\n",
              "      <td>g</td>\n",
              "    </tr>\n",
              "  </tbody>\n",
              "</table>\n",
              "</div>\n",
              "      <button class=\"colab-df-convert\" onclick=\"convertToInteractive('df-66c77707-dd48-4824-af51-58f5182144a1')\"\n",
              "              title=\"Convert this dataframe to an interactive table.\"\n",
              "              style=\"display:none;\">\n",
              "        \n",
              "  <svg xmlns=\"http://www.w3.org/2000/svg\" height=\"24px\"viewBox=\"0 0 24 24\"\n",
              "       width=\"24px\">\n",
              "    <path d=\"M0 0h24v24H0V0z\" fill=\"none\"/>\n",
              "    <path d=\"M18.56 5.44l.94 2.06.94-2.06 2.06-.94-2.06-.94-.94-2.06-.94 2.06-2.06.94zm-11 1L8.5 8.5l.94-2.06 2.06-.94-2.06-.94L8.5 2.5l-.94 2.06-2.06.94zm10 10l.94 2.06.94-2.06 2.06-.94-2.06-.94-.94-2.06-.94 2.06-2.06.94z\"/><path d=\"M17.41 7.96l-1.37-1.37c-.4-.4-.92-.59-1.43-.59-.52 0-1.04.2-1.43.59L10.3 9.45l-7.72 7.72c-.78.78-.78 2.05 0 2.83L4 21.41c.39.39.9.59 1.41.59.51 0 1.02-.2 1.41-.59l7.78-7.78 2.81-2.81c.8-.78.8-2.07 0-2.86zM5.41 20L4 18.59l7.72-7.72 1.47 1.35L5.41 20z\"/>\n",
              "  </svg>\n",
              "      </button>\n",
              "      \n",
              "  <style>\n",
              "    .colab-df-container {\n",
              "      display:flex;\n",
              "      flex-wrap:wrap;\n",
              "      gap: 12px;\n",
              "    }\n",
              "\n",
              "    .colab-df-convert {\n",
              "      background-color: #E8F0FE;\n",
              "      border: none;\n",
              "      border-radius: 50%;\n",
              "      cursor: pointer;\n",
              "      display: none;\n",
              "      fill: #1967D2;\n",
              "      height: 32px;\n",
              "      padding: 0 0 0 0;\n",
              "      width: 32px;\n",
              "    }\n",
              "\n",
              "    .colab-df-convert:hover {\n",
              "      background-color: #E2EBFA;\n",
              "      box-shadow: 0px 1px 2px rgba(60, 64, 67, 0.3), 0px 1px 3px 1px rgba(60, 64, 67, 0.15);\n",
              "      fill: #174EA6;\n",
              "    }\n",
              "\n",
              "    [theme=dark] .colab-df-convert {\n",
              "      background-color: #3B4455;\n",
              "      fill: #D2E3FC;\n",
              "    }\n",
              "\n",
              "    [theme=dark] .colab-df-convert:hover {\n",
              "      background-color: #434B5C;\n",
              "      box-shadow: 0px 1px 3px 1px rgba(0, 0, 0, 0.15);\n",
              "      filter: drop-shadow(0px 1px 2px rgba(0, 0, 0, 0.3));\n",
              "      fill: #FFFFFF;\n",
              "    }\n",
              "  </style>\n",
              "\n",
              "      <script>\n",
              "        const buttonEl =\n",
              "          document.querySelector('#df-66c77707-dd48-4824-af51-58f5182144a1 button.colab-df-convert');\n",
              "        buttonEl.style.display =\n",
              "          google.colab.kernel.accessAllowed ? 'block' : 'none';\n",
              "\n",
              "        async function convertToInteractive(key) {\n",
              "          const element = document.querySelector('#df-66c77707-dd48-4824-af51-58f5182144a1');\n",
              "          const dataTable =\n",
              "            await google.colab.kernel.invokeFunction('convertToInteractive',\n",
              "                                                     [key], {});\n",
              "          if (!dataTable) return;\n",
              "\n",
              "          const docLinkHtml = 'Like what you see? Visit the ' +\n",
              "            '<a target=\"_blank\" href=https://colab.research.google.com/notebooks/data_table.ipynb>data table notebook</a>'\n",
              "            + ' to learn more about interactive tables.';\n",
              "          element.innerHTML = '';\n",
              "          dataTable['output_type'] = 'display_data';\n",
              "          await google.colab.output.renderOutput(dataTable, element);\n",
              "          const docLink = document.createElement('div');\n",
              "          docLink.innerHTML = docLinkHtml;\n",
              "          element.appendChild(docLink);\n",
              "        }\n",
              "      </script>\n",
              "    </div>\n",
              "  </div>\n",
              "  "
            ]
          },
          "metadata": {},
          "execution_count": 3
        }
      ]
    },
    {
      "cell_type": "code",
      "source": [
        "data.duplicated().sum()"
      ],
      "metadata": {
        "colab": {
          "base_uri": "https://localhost:8080/"
        },
        "id": "7qYlzkjbnDzC",
        "outputId": "2702efca-8b71-4696-9f07-075086eaef59"
      },
      "execution_count": 82,
      "outputs": [
        {
          "output_type": "execute_result",
          "data": {
            "text/plain": [
              "115"
            ]
          },
          "metadata": {},
          "execution_count": 82
        }
      ]
    },
    {
      "cell_type": "code",
      "source": [
        "data=data.drop_duplicates()"
      ],
      "metadata": {
        "id": "iWAw-gfnnK3S"
      },
      "execution_count": 83,
      "outputs": []
    },
    {
      "cell_type": "code",
      "source": [
        "data.dtypes"
      ],
      "metadata": {
        "colab": {
          "base_uri": "https://localhost:8080/"
        },
        "id": "jU9H9wGifMLm",
        "outputId": "dcac8e20-4824-430a-ce83-4f2ad9a9ebd8"
      },
      "execution_count": 84,
      "outputs": [
        {
          "output_type": "execute_result",
          "data": {
            "text/plain": [
              "flength     float64\n",
              "fwidth      float64\n",
              "fsize       float64\n",
              "fconc       float64\n",
              "fconc1      float64\n",
              "fsym        float64\n",
              "fm3long     float64\n",
              "fm3trans    float64\n",
              "falpha      float64\n",
              "dist        float64\n",
              "class         int64\n",
              "dtype: object"
            ]
          },
          "metadata": {},
          "execution_count": 84
        }
      ]
    },
    {
      "cell_type": "code",
      "source": [
        "data.describe()"
      ],
      "metadata": {
        "colab": {
          "base_uri": "https://localhost:8080/",
          "height": 364
        },
        "id": "McwMc7xffPhG",
        "outputId": "a8b22e2e-cb21-496f-aaac-1eaa0ad3632f"
      },
      "execution_count": 85,
      "outputs": [
        {
          "output_type": "execute_result",
          "data": {
            "text/plain": [
              "            flength        fwidth         fsize         fconc        fconc1  \\\n",
              "count  18905.000000  18905.000000  18905.000000  18905.000000  18905.000000   \n",
              "mean      -0.002095     -0.001913     -0.000791     -0.000437     -0.000881   \n",
              "std        0.997546      0.997552      0.999556      0.999458      0.998875   \n",
              "min       -1.155862     -1.209064     -1.869959     -2.008809     -1.939745   \n",
              "25%       -0.681962     -0.561812     -0.736198     -0.790593     -0.779647   \n",
              "50%       -0.380530     -0.274571     -0.179897     -0.144015     -0.165211   \n",
              "75%        0.394801      0.137986      0.584196      0.673782      0.636542   \n",
              "max        6.631304     12.766078      5.286407      2.804429      4.167511   \n",
              "\n",
              "               fsym       fm3long      fm3trans        falpha          dist  \\\n",
              "count  18905.000000  18905.000000  18905.000000  18905.000000  18905.000000   \n",
              "mean       0.002599      0.001437      0.000463     -0.003604     -0.001411   \n",
              "std        0.996716      0.998077      0.997521      0.999238      0.999410   \n",
              "min       -7.661315     -6.712427     -9.897993     -1.059103     -2.576420   \n",
              "25%       -0.272739     -0.457165     -0.532270     -0.847771     -0.689805   \n",
              "50%        0.141791      0.093972      0.024021     -0.387416     -0.026576   \n",
              "75%        0.480795      0.496558      0.513719      0.691811      0.623459   \n",
              "max        9.789330      4.466292      8.623528      2.388785      4.037785   \n",
              "\n",
              "              class  \n",
              "count  18905.000000  \n",
              "mean       0.347686  \n",
              "std        0.476248  \n",
              "min        0.000000  \n",
              "25%        0.000000  \n",
              "50%        0.000000  \n",
              "75%        1.000000  \n",
              "max        1.000000  "
            ],
            "text/html": [
              "\n",
              "  <div id=\"df-6e498425-f028-422f-bdd6-f1967218f998\">\n",
              "    <div class=\"colab-df-container\">\n",
              "      <div>\n",
              "<style scoped>\n",
              "    .dataframe tbody tr th:only-of-type {\n",
              "        vertical-align: middle;\n",
              "    }\n",
              "\n",
              "    .dataframe tbody tr th {\n",
              "        vertical-align: top;\n",
              "    }\n",
              "\n",
              "    .dataframe thead th {\n",
              "        text-align: right;\n",
              "    }\n",
              "</style>\n",
              "<table border=\"1\" class=\"dataframe\">\n",
              "  <thead>\n",
              "    <tr style=\"text-align: right;\">\n",
              "      <th></th>\n",
              "      <th>flength</th>\n",
              "      <th>fwidth</th>\n",
              "      <th>fsize</th>\n",
              "      <th>fconc</th>\n",
              "      <th>fconc1</th>\n",
              "      <th>fsym</th>\n",
              "      <th>fm3long</th>\n",
              "      <th>fm3trans</th>\n",
              "      <th>falpha</th>\n",
              "      <th>dist</th>\n",
              "      <th>class</th>\n",
              "    </tr>\n",
              "  </thead>\n",
              "  <tbody>\n",
              "    <tr>\n",
              "      <th>count</th>\n",
              "      <td>18905.000000</td>\n",
              "      <td>18905.000000</td>\n",
              "      <td>18905.000000</td>\n",
              "      <td>18905.000000</td>\n",
              "      <td>18905.000000</td>\n",
              "      <td>18905.000000</td>\n",
              "      <td>18905.000000</td>\n",
              "      <td>18905.000000</td>\n",
              "      <td>18905.000000</td>\n",
              "      <td>18905.000000</td>\n",
              "      <td>18905.000000</td>\n",
              "    </tr>\n",
              "    <tr>\n",
              "      <th>mean</th>\n",
              "      <td>-0.002095</td>\n",
              "      <td>-0.001913</td>\n",
              "      <td>-0.000791</td>\n",
              "      <td>-0.000437</td>\n",
              "      <td>-0.000881</td>\n",
              "      <td>0.002599</td>\n",
              "      <td>0.001437</td>\n",
              "      <td>0.000463</td>\n",
              "      <td>-0.003604</td>\n",
              "      <td>-0.001411</td>\n",
              "      <td>0.347686</td>\n",
              "    </tr>\n",
              "    <tr>\n",
              "      <th>std</th>\n",
              "      <td>0.997546</td>\n",
              "      <td>0.997552</td>\n",
              "      <td>0.999556</td>\n",
              "      <td>0.999458</td>\n",
              "      <td>0.998875</td>\n",
              "      <td>0.996716</td>\n",
              "      <td>0.998077</td>\n",
              "      <td>0.997521</td>\n",
              "      <td>0.999238</td>\n",
              "      <td>0.999410</td>\n",
              "      <td>0.476248</td>\n",
              "    </tr>\n",
              "    <tr>\n",
              "      <th>min</th>\n",
              "      <td>-1.155862</td>\n",
              "      <td>-1.209064</td>\n",
              "      <td>-1.869959</td>\n",
              "      <td>-2.008809</td>\n",
              "      <td>-1.939745</td>\n",
              "      <td>-7.661315</td>\n",
              "      <td>-6.712427</td>\n",
              "      <td>-9.897993</td>\n",
              "      <td>-1.059103</td>\n",
              "      <td>-2.576420</td>\n",
              "      <td>0.000000</td>\n",
              "    </tr>\n",
              "    <tr>\n",
              "      <th>25%</th>\n",
              "      <td>-0.681962</td>\n",
              "      <td>-0.561812</td>\n",
              "      <td>-0.736198</td>\n",
              "      <td>-0.790593</td>\n",
              "      <td>-0.779647</td>\n",
              "      <td>-0.272739</td>\n",
              "      <td>-0.457165</td>\n",
              "      <td>-0.532270</td>\n",
              "      <td>-0.847771</td>\n",
              "      <td>-0.689805</td>\n",
              "      <td>0.000000</td>\n",
              "    </tr>\n",
              "    <tr>\n",
              "      <th>50%</th>\n",
              "      <td>-0.380530</td>\n",
              "      <td>-0.274571</td>\n",
              "      <td>-0.179897</td>\n",
              "      <td>-0.144015</td>\n",
              "      <td>-0.165211</td>\n",
              "      <td>0.141791</td>\n",
              "      <td>0.093972</td>\n",
              "      <td>0.024021</td>\n",
              "      <td>-0.387416</td>\n",
              "      <td>-0.026576</td>\n",
              "      <td>0.000000</td>\n",
              "    </tr>\n",
              "    <tr>\n",
              "      <th>75%</th>\n",
              "      <td>0.394801</td>\n",
              "      <td>0.137986</td>\n",
              "      <td>0.584196</td>\n",
              "      <td>0.673782</td>\n",
              "      <td>0.636542</td>\n",
              "      <td>0.480795</td>\n",
              "      <td>0.496558</td>\n",
              "      <td>0.513719</td>\n",
              "      <td>0.691811</td>\n",
              "      <td>0.623459</td>\n",
              "      <td>1.000000</td>\n",
              "    </tr>\n",
              "    <tr>\n",
              "      <th>max</th>\n",
              "      <td>6.631304</td>\n",
              "      <td>12.766078</td>\n",
              "      <td>5.286407</td>\n",
              "      <td>2.804429</td>\n",
              "      <td>4.167511</td>\n",
              "      <td>9.789330</td>\n",
              "      <td>4.466292</td>\n",
              "      <td>8.623528</td>\n",
              "      <td>2.388785</td>\n",
              "      <td>4.037785</td>\n",
              "      <td>1.000000</td>\n",
              "    </tr>\n",
              "  </tbody>\n",
              "</table>\n",
              "</div>\n",
              "      <button class=\"colab-df-convert\" onclick=\"convertToInteractive('df-6e498425-f028-422f-bdd6-f1967218f998')\"\n",
              "              title=\"Convert this dataframe to an interactive table.\"\n",
              "              style=\"display:none;\">\n",
              "        \n",
              "  <svg xmlns=\"http://www.w3.org/2000/svg\" height=\"24px\"viewBox=\"0 0 24 24\"\n",
              "       width=\"24px\">\n",
              "    <path d=\"M0 0h24v24H0V0z\" fill=\"none\"/>\n",
              "    <path d=\"M18.56 5.44l.94 2.06.94-2.06 2.06-.94-2.06-.94-.94-2.06-.94 2.06-2.06.94zm-11 1L8.5 8.5l.94-2.06 2.06-.94-2.06-.94L8.5 2.5l-.94 2.06-2.06.94zm10 10l.94 2.06.94-2.06 2.06-.94-2.06-.94-.94-2.06-.94 2.06-2.06.94z\"/><path d=\"M17.41 7.96l-1.37-1.37c-.4-.4-.92-.59-1.43-.59-.52 0-1.04.2-1.43.59L10.3 9.45l-7.72 7.72c-.78.78-.78 2.05 0 2.83L4 21.41c.39.39.9.59 1.41.59.51 0 1.02-.2 1.41-.59l7.78-7.78 2.81-2.81c.8-.78.8-2.07 0-2.86zM5.41 20L4 18.59l7.72-7.72 1.47 1.35L5.41 20z\"/>\n",
              "  </svg>\n",
              "      </button>\n",
              "      \n",
              "  <style>\n",
              "    .colab-df-container {\n",
              "      display:flex;\n",
              "      flex-wrap:wrap;\n",
              "      gap: 12px;\n",
              "    }\n",
              "\n",
              "    .colab-df-convert {\n",
              "      background-color: #E8F0FE;\n",
              "      border: none;\n",
              "      border-radius: 50%;\n",
              "      cursor: pointer;\n",
              "      display: none;\n",
              "      fill: #1967D2;\n",
              "      height: 32px;\n",
              "      padding: 0 0 0 0;\n",
              "      width: 32px;\n",
              "    }\n",
              "\n",
              "    .colab-df-convert:hover {\n",
              "      background-color: #E2EBFA;\n",
              "      box-shadow: 0px 1px 2px rgba(60, 64, 67, 0.3), 0px 1px 3px 1px rgba(60, 64, 67, 0.15);\n",
              "      fill: #174EA6;\n",
              "    }\n",
              "\n",
              "    [theme=dark] .colab-df-convert {\n",
              "      background-color: #3B4455;\n",
              "      fill: #D2E3FC;\n",
              "    }\n",
              "\n",
              "    [theme=dark] .colab-df-convert:hover {\n",
              "      background-color: #434B5C;\n",
              "      box-shadow: 0px 1px 3px 1px rgba(0, 0, 0, 0.15);\n",
              "      filter: drop-shadow(0px 1px 2px rgba(0, 0, 0, 0.3));\n",
              "      fill: #FFFFFF;\n",
              "    }\n",
              "  </style>\n",
              "\n",
              "      <script>\n",
              "        const buttonEl =\n",
              "          document.querySelector('#df-6e498425-f028-422f-bdd6-f1967218f998 button.colab-df-convert');\n",
              "        buttonEl.style.display =\n",
              "          google.colab.kernel.accessAllowed ? 'block' : 'none';\n",
              "\n",
              "        async function convertToInteractive(key) {\n",
              "          const element = document.querySelector('#df-6e498425-f028-422f-bdd6-f1967218f998');\n",
              "          const dataTable =\n",
              "            await google.colab.kernel.invokeFunction('convertToInteractive',\n",
              "                                                     [key], {});\n",
              "          if (!dataTable) return;\n",
              "\n",
              "          const docLinkHtml = 'Like what you see? Visit the ' +\n",
              "            '<a target=\"_blank\" href=https://colab.research.google.com/notebooks/data_table.ipynb>data table notebook</a>'\n",
              "            + ' to learn more about interactive tables.';\n",
              "          element.innerHTML = '';\n",
              "          dataTable['output_type'] = 'display_data';\n",
              "          await google.colab.output.renderOutput(dataTable, element);\n",
              "          const docLink = document.createElement('div');\n",
              "          docLink.innerHTML = docLinkHtml;\n",
              "          element.appendChild(docLink);\n",
              "        }\n",
              "      </script>\n",
              "    </div>\n",
              "  </div>\n",
              "  "
            ]
          },
          "metadata": {},
          "execution_count": 85
        }
      ]
    },
    {
      "cell_type": "code",
      "source": [
        "data.isna().sum()"
      ],
      "metadata": {
        "colab": {
          "base_uri": "https://localhost:8080/"
        },
        "id": "t_4z9T2gfT2D",
        "outputId": "b2e5c47c-4555-4a82-cf7e-e7cc517afa17"
      },
      "execution_count": 86,
      "outputs": [
        {
          "output_type": "execute_result",
          "data": {
            "text/plain": [
              "flength     0\n",
              "fwidth      0\n",
              "fsize       0\n",
              "fconc       0\n",
              "fconc1      0\n",
              "fsym        0\n",
              "fm3long     0\n",
              "fm3trans    0\n",
              "falpha      0\n",
              "dist        0\n",
              "class       0\n",
              "dtype: int64"
            ]
          },
          "metadata": {},
          "execution_count": 86
        }
      ]
    },
    {
      "cell_type": "code",
      "source": [
        "from sklearn.preprocessing import StandardScaler\n",
        "sc=StandardScaler()\n",
        "data2=data.drop('class',axis=1)"
      ],
      "metadata": {
        "id": "zGXaDfsafao9"
      },
      "execution_count": 87,
      "outputs": []
    },
    {
      "cell_type": "code",
      "source": [
        "data[data2.columns]=sc.fit_transform(data[data2.columns])"
      ],
      "metadata": {
        "colab": {
          "base_uri": "https://localhost:8080/"
        },
        "id": "wVNudcopfsM6",
        "outputId": "3cc8e80f-df1c-498d-e480-8c9e1b08e481"
      },
      "execution_count": 88,
      "outputs": [
        {
          "output_type": "stream",
          "name": "stderr",
          "text": [
            "/usr/local/lib/python3.7/dist-packages/pandas/core/frame.py:3678: SettingWithCopyWarning: \n",
            "A value is trying to be set on a copy of a slice from a DataFrame.\n",
            "Try using .loc[row_indexer,col_indexer] = value instead\n",
            "\n",
            "See the caveats in the documentation: https://pandas.pydata.org/pandas-docs/stable/user_guide/indexing.html#returning-a-view-versus-a-copy\n",
            "  self[col] = igetitem(value, i)\n"
          ]
        }
      ]
    },
    {
      "cell_type": "code",
      "source": [
        "data.describe()"
      ],
      "metadata": {
        "colab": {
          "base_uri": "https://localhost:8080/",
          "height": 364
        },
        "id": "rGLlKX8Yf-cO",
        "outputId": "aede0516-e825-4ee3-f304-594ee5f41762"
      },
      "execution_count": 89,
      "outputs": [
        {
          "output_type": "execute_result",
          "data": {
            "text/plain": [
              "            flength        fwidth         fsize         fconc        fconc1  \\\n",
              "count  1.890500e+04  1.890500e+04  1.890500e+04  1.890500e+04  1.890500e+04   \n",
              "mean   2.405434e-17  3.006793e-17  3.006793e-18  1.353057e-17  2.668529e-17   \n",
              "std    1.000026e+00  1.000026e+00  1.000026e+00  1.000026e+00  1.000026e+00   \n",
              "min   -1.156636e+00 -1.210145e+00 -1.870047e+00 -2.009513e+00 -1.941099e+00   \n",
              "25%   -6.815575e-01 -5.612880e-01 -7.357526e-01 -7.906052e-01 -7.796634e-01   \n",
              "50%   -3.793758e-01 -2.733346e-01 -1.791904e-01 -1.436589e-01 -1.645192e-01   \n",
              "75%    3.978825e-01  1.402461e-01  5.852622e-01  6.746023e-01  6.381578e-01   \n",
              "max    6.649892e+00  1.279966e+01  5.289684e+00  2.806460e+00  4.173198e+00   \n",
              "\n",
              "               fsym       fm3long      fm3trans        falpha          dist  \\\n",
              "count  18905.000000  1.890500e+04  1.890500e+04  1.890500e+04  1.890500e+04   \n",
              "mean       0.000000 -1.202717e-17  6.765284e-18  3.608151e-17 -6.013586e-18   \n",
              "std        1.000026  1.000026e+00  1.000026e+00  1.000026e+00  1.000026e+00   \n",
              "min       -7.689371 -6.726980e+00 -9.923314e+00 -1.056332e+00 -2.576598e+00   \n",
              "25%       -0.276252 -4.594976e-01 -5.340705e-01 -8.448330e-01 -6.888187e-01   \n",
              "50%        0.139654  9.271581e-02  2.361697e-02 -3.841156e-01 -2.518023e-02   \n",
              "75%        0.479785  4.960884e-01  5.145454e-01  6.959628e-01  6.252559e-01   \n",
              "max        9.819239  4.473578e+00  8.644720e+00  2.394275e+00  4.041689e+00   \n",
              "\n",
              "              class  \n",
              "count  18905.000000  \n",
              "mean       0.347686  \n",
              "std        0.476248  \n",
              "min        0.000000  \n",
              "25%        0.000000  \n",
              "50%        0.000000  \n",
              "75%        1.000000  \n",
              "max        1.000000  "
            ],
            "text/html": [
              "\n",
              "  <div id=\"df-bbc6adf9-44d4-4181-8d2c-697a94b45a67\">\n",
              "    <div class=\"colab-df-container\">\n",
              "      <div>\n",
              "<style scoped>\n",
              "    .dataframe tbody tr th:only-of-type {\n",
              "        vertical-align: middle;\n",
              "    }\n",
              "\n",
              "    .dataframe tbody tr th {\n",
              "        vertical-align: top;\n",
              "    }\n",
              "\n",
              "    .dataframe thead th {\n",
              "        text-align: right;\n",
              "    }\n",
              "</style>\n",
              "<table border=\"1\" class=\"dataframe\">\n",
              "  <thead>\n",
              "    <tr style=\"text-align: right;\">\n",
              "      <th></th>\n",
              "      <th>flength</th>\n",
              "      <th>fwidth</th>\n",
              "      <th>fsize</th>\n",
              "      <th>fconc</th>\n",
              "      <th>fconc1</th>\n",
              "      <th>fsym</th>\n",
              "      <th>fm3long</th>\n",
              "      <th>fm3trans</th>\n",
              "      <th>falpha</th>\n",
              "      <th>dist</th>\n",
              "      <th>class</th>\n",
              "    </tr>\n",
              "  </thead>\n",
              "  <tbody>\n",
              "    <tr>\n",
              "      <th>count</th>\n",
              "      <td>1.890500e+04</td>\n",
              "      <td>1.890500e+04</td>\n",
              "      <td>1.890500e+04</td>\n",
              "      <td>1.890500e+04</td>\n",
              "      <td>1.890500e+04</td>\n",
              "      <td>18905.000000</td>\n",
              "      <td>1.890500e+04</td>\n",
              "      <td>1.890500e+04</td>\n",
              "      <td>1.890500e+04</td>\n",
              "      <td>1.890500e+04</td>\n",
              "      <td>18905.000000</td>\n",
              "    </tr>\n",
              "    <tr>\n",
              "      <th>mean</th>\n",
              "      <td>2.405434e-17</td>\n",
              "      <td>3.006793e-17</td>\n",
              "      <td>3.006793e-18</td>\n",
              "      <td>1.353057e-17</td>\n",
              "      <td>2.668529e-17</td>\n",
              "      <td>0.000000</td>\n",
              "      <td>-1.202717e-17</td>\n",
              "      <td>6.765284e-18</td>\n",
              "      <td>3.608151e-17</td>\n",
              "      <td>-6.013586e-18</td>\n",
              "      <td>0.347686</td>\n",
              "    </tr>\n",
              "    <tr>\n",
              "      <th>std</th>\n",
              "      <td>1.000026e+00</td>\n",
              "      <td>1.000026e+00</td>\n",
              "      <td>1.000026e+00</td>\n",
              "      <td>1.000026e+00</td>\n",
              "      <td>1.000026e+00</td>\n",
              "      <td>1.000026</td>\n",
              "      <td>1.000026e+00</td>\n",
              "      <td>1.000026e+00</td>\n",
              "      <td>1.000026e+00</td>\n",
              "      <td>1.000026e+00</td>\n",
              "      <td>0.476248</td>\n",
              "    </tr>\n",
              "    <tr>\n",
              "      <th>min</th>\n",
              "      <td>-1.156636e+00</td>\n",
              "      <td>-1.210145e+00</td>\n",
              "      <td>-1.870047e+00</td>\n",
              "      <td>-2.009513e+00</td>\n",
              "      <td>-1.941099e+00</td>\n",
              "      <td>-7.689371</td>\n",
              "      <td>-6.726980e+00</td>\n",
              "      <td>-9.923314e+00</td>\n",
              "      <td>-1.056332e+00</td>\n",
              "      <td>-2.576598e+00</td>\n",
              "      <td>0.000000</td>\n",
              "    </tr>\n",
              "    <tr>\n",
              "      <th>25%</th>\n",
              "      <td>-6.815575e-01</td>\n",
              "      <td>-5.612880e-01</td>\n",
              "      <td>-7.357526e-01</td>\n",
              "      <td>-7.906052e-01</td>\n",
              "      <td>-7.796634e-01</td>\n",
              "      <td>-0.276252</td>\n",
              "      <td>-4.594976e-01</td>\n",
              "      <td>-5.340705e-01</td>\n",
              "      <td>-8.448330e-01</td>\n",
              "      <td>-6.888187e-01</td>\n",
              "      <td>0.000000</td>\n",
              "    </tr>\n",
              "    <tr>\n",
              "      <th>50%</th>\n",
              "      <td>-3.793758e-01</td>\n",
              "      <td>-2.733346e-01</td>\n",
              "      <td>-1.791904e-01</td>\n",
              "      <td>-1.436589e-01</td>\n",
              "      <td>-1.645192e-01</td>\n",
              "      <td>0.139654</td>\n",
              "      <td>9.271581e-02</td>\n",
              "      <td>2.361697e-02</td>\n",
              "      <td>-3.841156e-01</td>\n",
              "      <td>-2.518023e-02</td>\n",
              "      <td>0.000000</td>\n",
              "    </tr>\n",
              "    <tr>\n",
              "      <th>75%</th>\n",
              "      <td>3.978825e-01</td>\n",
              "      <td>1.402461e-01</td>\n",
              "      <td>5.852622e-01</td>\n",
              "      <td>6.746023e-01</td>\n",
              "      <td>6.381578e-01</td>\n",
              "      <td>0.479785</td>\n",
              "      <td>4.960884e-01</td>\n",
              "      <td>5.145454e-01</td>\n",
              "      <td>6.959628e-01</td>\n",
              "      <td>6.252559e-01</td>\n",
              "      <td>1.000000</td>\n",
              "    </tr>\n",
              "    <tr>\n",
              "      <th>max</th>\n",
              "      <td>6.649892e+00</td>\n",
              "      <td>1.279966e+01</td>\n",
              "      <td>5.289684e+00</td>\n",
              "      <td>2.806460e+00</td>\n",
              "      <td>4.173198e+00</td>\n",
              "      <td>9.819239</td>\n",
              "      <td>4.473578e+00</td>\n",
              "      <td>8.644720e+00</td>\n",
              "      <td>2.394275e+00</td>\n",
              "      <td>4.041689e+00</td>\n",
              "      <td>1.000000</td>\n",
              "    </tr>\n",
              "  </tbody>\n",
              "</table>\n",
              "</div>\n",
              "      <button class=\"colab-df-convert\" onclick=\"convertToInteractive('df-bbc6adf9-44d4-4181-8d2c-697a94b45a67')\"\n",
              "              title=\"Convert this dataframe to an interactive table.\"\n",
              "              style=\"display:none;\">\n",
              "        \n",
              "  <svg xmlns=\"http://www.w3.org/2000/svg\" height=\"24px\"viewBox=\"0 0 24 24\"\n",
              "       width=\"24px\">\n",
              "    <path d=\"M0 0h24v24H0V0z\" fill=\"none\"/>\n",
              "    <path d=\"M18.56 5.44l.94 2.06.94-2.06 2.06-.94-2.06-.94-.94-2.06-.94 2.06-2.06.94zm-11 1L8.5 8.5l.94-2.06 2.06-.94-2.06-.94L8.5 2.5l-.94 2.06-2.06.94zm10 10l.94 2.06.94-2.06 2.06-.94-2.06-.94-.94-2.06-.94 2.06-2.06.94z\"/><path d=\"M17.41 7.96l-1.37-1.37c-.4-.4-.92-.59-1.43-.59-.52 0-1.04.2-1.43.59L10.3 9.45l-7.72 7.72c-.78.78-.78 2.05 0 2.83L4 21.41c.39.39.9.59 1.41.59.51 0 1.02-.2 1.41-.59l7.78-7.78 2.81-2.81c.8-.78.8-2.07 0-2.86zM5.41 20L4 18.59l7.72-7.72 1.47 1.35L5.41 20z\"/>\n",
              "  </svg>\n",
              "      </button>\n",
              "      \n",
              "  <style>\n",
              "    .colab-df-container {\n",
              "      display:flex;\n",
              "      flex-wrap:wrap;\n",
              "      gap: 12px;\n",
              "    }\n",
              "\n",
              "    .colab-df-convert {\n",
              "      background-color: #E8F0FE;\n",
              "      border: none;\n",
              "      border-radius: 50%;\n",
              "      cursor: pointer;\n",
              "      display: none;\n",
              "      fill: #1967D2;\n",
              "      height: 32px;\n",
              "      padding: 0 0 0 0;\n",
              "      width: 32px;\n",
              "    }\n",
              "\n",
              "    .colab-df-convert:hover {\n",
              "      background-color: #E2EBFA;\n",
              "      box-shadow: 0px 1px 2px rgba(60, 64, 67, 0.3), 0px 1px 3px 1px rgba(60, 64, 67, 0.15);\n",
              "      fill: #174EA6;\n",
              "    }\n",
              "\n",
              "    [theme=dark] .colab-df-convert {\n",
              "      background-color: #3B4455;\n",
              "      fill: #D2E3FC;\n",
              "    }\n",
              "\n",
              "    [theme=dark] .colab-df-convert:hover {\n",
              "      background-color: #434B5C;\n",
              "      box-shadow: 0px 1px 3px 1px rgba(0, 0, 0, 0.15);\n",
              "      filter: drop-shadow(0px 1px 2px rgba(0, 0, 0, 0.3));\n",
              "      fill: #FFFFFF;\n",
              "    }\n",
              "  </style>\n",
              "\n",
              "      <script>\n",
              "        const buttonEl =\n",
              "          document.querySelector('#df-bbc6adf9-44d4-4181-8d2c-697a94b45a67 button.colab-df-convert');\n",
              "        buttonEl.style.display =\n",
              "          google.colab.kernel.accessAllowed ? 'block' : 'none';\n",
              "\n",
              "        async function convertToInteractive(key) {\n",
              "          const element = document.querySelector('#df-bbc6adf9-44d4-4181-8d2c-697a94b45a67');\n",
              "          const dataTable =\n",
              "            await google.colab.kernel.invokeFunction('convertToInteractive',\n",
              "                                                     [key], {});\n",
              "          if (!dataTable) return;\n",
              "\n",
              "          const docLinkHtml = 'Like what you see? Visit the ' +\n",
              "            '<a target=\"_blank\" href=https://colab.research.google.com/notebooks/data_table.ipynb>data table notebook</a>'\n",
              "            + ' to learn more about interactive tables.';\n",
              "          element.innerHTML = '';\n",
              "          dataTable['output_type'] = 'display_data';\n",
              "          await google.colab.output.renderOutput(dataTable, element);\n",
              "          const docLink = document.createElement('div');\n",
              "          docLink.innerHTML = docLinkHtml;\n",
              "          element.appendChild(docLink);\n",
              "        }\n",
              "      </script>\n",
              "    </div>\n",
              "  </div>\n",
              "  "
            ]
          },
          "metadata": {},
          "execution_count": 89
        }
      ]
    },
    {
      "cell_type": "code",
      "source": [
        "from sklearn.preprocessing import LabelEncoder\n",
        "lb=LabelEncoder()\n",
        "data['class']=lb.fit_transform(data['class'])"
      ],
      "metadata": {
        "id": "JbIiwqVWgKh5"
      },
      "execution_count": 18,
      "outputs": []
    },
    {
      "cell_type": "code",
      "source": [
        "data['class'].value_counts()"
      ],
      "metadata": {
        "colab": {
          "base_uri": "https://localhost:8080/"
        },
        "id": "8fOkxtCdggEH",
        "outputId": "584c755e-bba0-4efc-d8ef-067ac0f371f0"
      },
      "execution_count": 22,
      "outputs": [
        {
          "output_type": "execute_result",
          "data": {
            "text/plain": [
              "0    12332\n",
              "1     6688\n",
              "Name: class, dtype: int64"
            ]
          },
          "metadata": {},
          "execution_count": 22
        }
      ]
    },
    {
      "cell_type": "code",
      "source": [
        "x=data.drop('class',axis=1)\n",
        "y=data['class']\n",
        "from sklearn.model_selection import train_test_split\n",
        "x_train,x_test,y_train,y_test=train_test_split(x,y,random_state=42,test_size=0.2)"
      ],
      "metadata": {
        "id": "UCmj2oIeghB8"
      },
      "execution_count": 25,
      "outputs": []
    },
    {
      "cell_type": "code",
      "source": [
        "import tensorflow \n",
        "from tensorflow import keras\n",
        "from tensorflow.keras import Sequential\n",
        "from tensorflow.keras.layers import Dense,Dropout"
      ],
      "metadata": {
        "id": "1qruVC96gzlB"
      },
      "execution_count": 90,
      "outputs": []
    },
    {
      "cell_type": "code",
      "source": [
        "model=Sequential()\n",
        "model.add(Dense(16,activation='relu',input_dim=10))\n",
        "model.add(Dropout(0.2))\n",
        "model.add(Dense(16,activation='relu'))\n",
        "model.add(Dense(1,activation='sigmoid'))"
      ],
      "metadata": {
        "id": "sXc_k90Vh15q"
      },
      "execution_count": 91,
      "outputs": []
    },
    {
      "cell_type": "code",
      "source": [
        "model.summary()"
      ],
      "metadata": {
        "colab": {
          "base_uri": "https://localhost:8080/"
        },
        "id": "zp-IygeziUCr",
        "outputId": "672d8b5c-530f-49b9-98f6-d425da3ef2ae"
      },
      "execution_count": 92,
      "outputs": [
        {
          "output_type": "stream",
          "name": "stdout",
          "text": [
            "Model: \"sequential_8\"\n",
            "_________________________________________________________________\n",
            " Layer (type)                Output Shape              Param #   \n",
            "=================================================================\n",
            " dense_23 (Dense)            (None, 16)                176       \n",
            "                                                                 \n",
            " dropout_6 (Dropout)         (None, 16)                0         \n",
            "                                                                 \n",
            " dense_24 (Dense)            (None, 16)                272       \n",
            "                                                                 \n",
            " dense_25 (Dense)            (None, 1)                 17        \n",
            "                                                                 \n",
            "=================================================================\n",
            "Total params: 465\n",
            "Trainable params: 465\n",
            "Non-trainable params: 0\n",
            "_________________________________________________________________\n"
          ]
        }
      ]
    },
    {
      "cell_type": "code",
      "source": [
        "model.compile(loss='binary_crossentropy',optimizer='Adam',metrics=['accuracy'])"
      ],
      "metadata": {
        "id": "X6sVSMCCihmr"
      },
      "execution_count": 93,
      "outputs": []
    },
    {
      "cell_type": "code",
      "source": [
        "history=model.fit(x_train,y_train,epochs=15,verbose=1,validation_split=0.2)"
      ],
      "metadata": {
        "colab": {
          "base_uri": "https://localhost:8080/"
        },
        "id": "soM1gRx3itmD",
        "outputId": "0339dce4-ba18-40ec-8eb1-4f52f9b01492"
      },
      "execution_count": 94,
      "outputs": [
        {
          "output_type": "stream",
          "name": "stdout",
          "text": [
            "Epoch 1/15\n",
            "381/381 [==============================] - 2s 4ms/step - loss: 0.5340 - accuracy: 0.7285 - val_loss: 0.4299 - val_accuracy: 0.7986\n",
            "Epoch 2/15\n",
            "381/381 [==============================] - 3s 7ms/step - loss: 0.4237 - accuracy: 0.8072 - val_loss: 0.3982 - val_accuracy: 0.8210\n",
            "Epoch 3/15\n",
            "381/381 [==============================] - 2s 4ms/step - loss: 0.4049 - accuracy: 0.8188 - val_loss: 0.3813 - val_accuracy: 0.8344\n",
            "Epoch 4/15\n",
            "381/381 [==============================] - 1s 4ms/step - loss: 0.3927 - accuracy: 0.8307 - val_loss: 0.3719 - val_accuracy: 0.8446\n",
            "Epoch 5/15\n",
            "381/381 [==============================] - 1s 4ms/step - loss: 0.3845 - accuracy: 0.8327 - val_loss: 0.3650 - val_accuracy: 0.8486\n",
            "Epoch 6/15\n",
            "381/381 [==============================] - 1s 4ms/step - loss: 0.3779 - accuracy: 0.8350 - val_loss: 0.3607 - val_accuracy: 0.8509\n",
            "Epoch 7/15\n",
            "381/381 [==============================] - 1s 4ms/step - loss: 0.3746 - accuracy: 0.8405 - val_loss: 0.3562 - val_accuracy: 0.8518\n",
            "Epoch 8/15\n",
            "381/381 [==============================] - 1s 4ms/step - loss: 0.3694 - accuracy: 0.8479 - val_loss: 0.3524 - val_accuracy: 0.8574\n",
            "Epoch 9/15\n",
            "381/381 [==============================] - 1s 4ms/step - loss: 0.3642 - accuracy: 0.8446 - val_loss: 0.3492 - val_accuracy: 0.8564\n",
            "Epoch 10/15\n",
            "381/381 [==============================] - 1s 4ms/step - loss: 0.3623 - accuracy: 0.8506 - val_loss: 0.3465 - val_accuracy: 0.8574\n",
            "Epoch 11/15\n",
            "381/381 [==============================] - 1s 4ms/step - loss: 0.3636 - accuracy: 0.8476 - val_loss: 0.3448 - val_accuracy: 0.8561\n",
            "Epoch 12/15\n",
            "381/381 [==============================] - 1s 4ms/step - loss: 0.3561 - accuracy: 0.8506 - val_loss: 0.3410 - val_accuracy: 0.8561\n",
            "Epoch 13/15\n",
            "381/381 [==============================] - 1s 3ms/step - loss: 0.3543 - accuracy: 0.8487 - val_loss: 0.3382 - val_accuracy: 0.8597\n",
            "Epoch 14/15\n",
            "381/381 [==============================] - 1s 4ms/step - loss: 0.3510 - accuracy: 0.8534 - val_loss: 0.3358 - val_accuracy: 0.8617\n",
            "Epoch 15/15\n",
            "381/381 [==============================] - 1s 3ms/step - loss: 0.3523 - accuracy: 0.8537 - val_loss: 0.3376 - val_accuracy: 0.8581\n"
          ]
        }
      ]
    },
    {
      "cell_type": "code",
      "source": [
        "import matplotlib.pyplot as plt\n",
        "plt.plot(history.history['loss'])\n",
        "plt.plot(history.history['val_loss'])"
      ],
      "metadata": {
        "colab": {
          "base_uri": "https://localhost:8080/",
          "height": 282
        },
        "id": "BBkK0iC2nsCg",
        "outputId": "81c65957-5d6c-412f-f8e4-aab5b7aeef3a"
      },
      "execution_count": 99,
      "outputs": [
        {
          "output_type": "execute_result",
          "data": {
            "text/plain": [
              "[<matplotlib.lines.Line2D at 0x7f805bfdcf10>]"
            ]
          },
          "metadata": {},
          "execution_count": 99
        },
        {
          "output_type": "display_data",
          "data": {
            "text/plain": [
              "<Figure size 432x288 with 1 Axes>"
            ],
            "image/png": "[encoded data removed]"
          },
          "metadata": {
            "needs_background": "light"
          }
        }
      ]
    },
    {
      "cell_type": "code",
      "source": [
        "plt.plot(history.history['accuracy'])\n",
        "plt.plot(history.history['val_accuracy'])"
      ],
      "metadata": {
        "colab": {
          "base_uri": "https://localhost:8080/",
          "height": 282
        },
        "id": "On_nGNipoUI3",
        "outputId": "48a497e7-6485-4353-e141-14c0f84f7881"
      },
      "execution_count": 100,
      "outputs": [
        {
          "output_type": "execute_result",
          "data": {
            "text/plain": [
              "[<matplotlib.lines.Line2D at 0x7f805bdd16d0>]"
            ]
          },
          "metadata": {},
          "execution_count": 100
        },
        {
          "output_type": "display_data",
          "data": {
            "text/plain": [
              "<Figure size 432x288 with 1 Axes>"
            ],
            "image/png": "[encoded data removed]"
          },
          "metadata": {
            "needs_background": "light"
          }
        }
      ]
    },
    {
      "cell_type": "code",
      "source": [
        "model.layers[0].get_weights()"
      ],
      "metadata": {
        "colab": {
          "base_uri": "https://localhost:8080/"
        },
        "id": "UHtHcYYvi1Mg",
        "outputId": "415bdd12-b42b-4502-ca7f-3eccdc2a7bb5"
      },
      "execution_count": 101,
      "outputs": [
        {
          "output_type": "execute_result",
          "data": {
            "text/plain": [
              "[array([[ 0.39356714, -0.0976218 , -0.27602082,  0.5407834 , -0.8420557 ,\n",
              "          0.12832926,  0.05578452, -0.00665508, -0.74938655, -0.92485577,\n",
              "         -0.3309267 ,  0.11056275, -0.13090962,  0.17671005, -0.297345  ,\n",
              "          0.17655349],\n",
              "        [ 0.7505065 , -0.31993163, -0.15172403,  0.6194995 ,  0.0617951 ,\n",
              "          0.1923384 , -0.9235912 ,  0.34914377,  0.27950782,  0.17245847,\n",
              "         -0.82379353, -0.05151646, -0.32999793,  0.76019734, -0.25433597,\n",
              "         -1.1477216 ],\n",
              "        [-0.29546434,  0.02261707,  0.4334997 , -0.09984779,  0.4632691 ,\n",
              "          0.01832671,  0.1540258 , -1.0963372 , -0.05172097, -0.04801617,\n",
              "          0.59104043, -1.116851  , -0.30800712, -0.19825663,  0.11989065,\n",
              "          0.74186563],\n",
              "        [ 0.02506601, -0.6243198 , -0.04325712, -0.22045739, -0.15595365,\n",
              "         -0.6317493 , -0.29922307,  0.24484324, -0.09340399, -0.14310995,\n",
              "          0.33192712, -0.12109338,  0.11727115, -0.3080958 , -0.0822548 ,\n",
              "          0.18124524],\n",
              "        [ 0.2537389 ,  0.27786928, -0.2618974 ,  0.16229801, -0.2887719 ,\n",
              "         -0.2715465 ,  0.00928965, -0.3298294 ,  0.11689822,  0.05915207,\n",
              "         -0.1095404 , -0.18082762, -0.46482235,  0.16008197, -0.32368952,\n",
              "         -0.07352919],\n",
              "        [ 0.03401266,  0.01314016,  0.10276277, -0.05000289,  0.06133042,\n",
              "         -0.10063124, -0.03149145, -0.08626167,  0.07999976,  0.13167655,\n",
              "          0.1209643 , -0.06352805,  0.06697895, -0.15798241,  0.03602971,\n",
              "          0.11055069],\n",
              "        [ 0.00787327,  0.00242621,  0.10626317, -0.2676542 ,  0.1571974 ,\n",
              "         -0.37547472,  0.08121303, -0.11145255,  0.05228501,  0.2979266 ,\n",
              "          0.13715553, -0.13553433,  0.09268976, -0.02480221,  0.01342531,\n",
              "         -0.06421172],\n",
              "        [ 0.15517297,  0.06709672, -0.01353742,  0.01691068,  0.00661065,\n",
              "         -0.2777608 ,  0.15041693,  0.01300694,  0.08333477,  0.04696945,\n",
              "         -0.00503986, -0.10104946,  0.08859326, -0.02998448,  0.06392718,\n",
              "          0.01249006],\n",
              "        [ 0.5126075 , -0.70683783, -0.6598663 ,  0.2184594 , -0.08174589,\n",
              "          0.24984501,  0.5338844 , -0.04670002,  0.02649896, -0.20416252,\n",
              "          0.24708615, -0.15342675, -0.7811893 ,  0.34798753, -0.77726275,\n",
              "          0.11978497],\n",
              "        [ 0.22493166,  0.11203262,  0.08515739, -0.14256814, -0.10346854,\n",
              "          0.03276663,  0.30470964, -0.01873554, -0.22911662, -0.31914517,\n",
              "          0.17820592,  0.0350991 ,  0.26354855,  0.22064951,  0.1751381 ,\n",
              "          0.05004549]], dtype=float32),\n",
              " array([ 0.25762802, -0.35883346, -0.5465484 ,  0.26672065, -0.15929645,\n",
              "         0.4274554 , -0.0646607 , -0.266105  , -0.14460528, -0.03654618,\n",
              "        -0.17445056, -0.16004886, -0.01377196, -0.11453521, -0.4356291 ,\n",
              "        -0.08871179], dtype=float32)]"
            ]
          },
          "metadata": {},
          "execution_count": 101
        }
      ]
    },
    {
      "cell_type": "code",
      "source": [
        "model.predict(x_test)"
      ],
      "metadata": {
        "colab": {
          "base_uri": "https://localhost:8080/"
        },
        "id": "opsh7gqXjAZ9",
        "outputId": "e2825d38-65d8-43df-8940-b3f8fa058a89"
      },
      "execution_count": 102,
      "outputs": [
        {
          "output_type": "execute_result",
          "data": {
            "text/plain": [
              "array([[0.9137292 ],\n",
              "       [0.37378183],\n",
              "       [0.01680903],\n",
              "       ...,\n",
              "       [0.1553454 ],\n",
              "       [0.03108253],\n",
              "       [0.9655493 ]], dtype=float32)"
            ]
          },
          "metadata": {},
          "execution_count": 102
        }
      ]
    },
    {
      "cell_type": "code",
      "source": [
        "y_log=model.predict(x_test)\n",
        "y_pred=np.where(y_log>0.5,1,0)"
      ],
      "metadata": {
        "id": "d15L-1r2jJDf"
      },
      "execution_count": 103,
      "outputs": []
    },
    {
      "cell_type": "code",
      "source": [
        "from sklearn.metrics import accuracy_score,f1_score,classification_report"
      ],
      "metadata": {
        "id": "rowTp_7ojPmn"
      },
      "execution_count": 107,
      "outputs": []
    },
    {
      "cell_type": "code",
      "source": [
        "accuracy_score(y_test,y_pred)"
      ],
      "metadata": {
        "colab": {
          "base_uri": "https://localhost:8080/"
        },
        "id": "ZktrbYs5jZ-L",
        "outputId": "201a42a8-ed09-4656-e964-6d2e372194e7"
      },
      "execution_count": 105,
      "outputs": [
        {
          "output_type": "execute_result",
          "data": {
            "text/plain": [
              "0.8651419558359621"
            ]
          },
          "metadata": {},
          "execution_count": 105
        }
      ]
    },
    {
      "cell_type": "code",
      "source": [
        "f1_score(y_test,y_pred)"
      ],
      "metadata": {
        "colab": {
          "base_uri": "https://localhost:8080/"
        },
        "id": "x8_fxZgPjtVg",
        "outputId": "52f0f53f-a1fe-46cb-d8f2-dc5532cc36f7"
      },
      "execution_count": 106,
      "outputs": [
        {
          "output_type": "execute_result",
          "data": {
            "text/plain": [
              "0.7850858818600753"
            ]
          },
          "metadata": {},
          "execution_count": 106
        }
      ]
    },
    {
      "cell_type": "code",
      "source": [
        "predictions = (model.predict(x_test) > 0.5).astype('int32')\n",
        "print(classification_report(y_test, predictions))"
      ],
      "metadata": {
        "colab": {
          "base_uri": "https://localhost:8080/"
        },
        "id": "3SxWDBnXjw7m",
        "outputId": "db855d56-f999-465b-c7ae-e13fa62c368a"
      },
      "execution_count": 110,
      "outputs": [
        {
          "output_type": "stream",
          "name": "stdout",
          "text": [
            "              precision    recall  f1-score   support\n",
            "\n",
            "           0       0.85      0.96      0.90      2460\n",
            "           1       0.90      0.70      0.79      1344\n",
            "\n",
            "    accuracy                           0.87      3804\n",
            "   macro avg       0.88      0.83      0.84      3804\n",
            "weighted avg       0.87      0.87      0.86      3804\n",
            "\n"
          ]
        }
      ]
    },
    {
      "cell_type": "code",
      "source": [],
      "metadata": {
        "id": "1SNuWQtilUCo"
      },
      "execution_count": null,
      "outputs": []
    }
  ]
}