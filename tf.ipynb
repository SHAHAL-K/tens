{
  "nbformat": 4,
  "nbformat_minor": 0,
  "metadata": {
    "colab": {
      "provenance": []
    },
    "kernelspec": {
      "name": "python3",
      "display_name": "Python 3"
    },
    "language_info": {
      "name": "python"
    }
  },
  "cells": [
    {
      "cell_type": "code",
      "execution_count": 43,
      "metadata": {
        "id": "QI_6MUBPP2ai"
      },
      "outputs": [],
      "source": [
        "import warnings\n",
        "warnings.filterwarnings('once')"
      ]
    },
    {
      "cell_type": "code",
      "source": [
        "import pandas as pd"
      ],
      "metadata": {
        "id": "mBfJvBB2RSA1"
      },
      "execution_count": 44,
      "outputs": []
    },
    {
      "cell_type": "code",
      "source": [
        "imdata=pd.read_csv('/content/magic_gamma_telescope04_.csv')"
      ],
      "metadata": {
        "id": "-TemGpzlP8QZ"
      },
      "execution_count": 45,
      "outputs": []
    },
    {
      "cell_type": "code",
      "source": [
        "imdata"
      ],
      "metadata": {
        "colab": {
          "base_uri": "https://localhost:8080/",
          "height": 424
        },
        "id": "eGD9RcQCRLRa",
        "outputId": "c0cbd9eb-7ae7-49ba-884c-72239347ca86"
      },
      "execution_count": 46,
      "outputs": [
        {
          "output_type": "execute_result",
          "data": {
            "text/plain": [
              "        flength    fwidth   fsize   fconc  ...  fm3trans   falpha      dist  class\n",
              "0       28.7967   16.0021  2.6449  0.3918  ...   -8.2027  40.0920   81.8828      g\n",
              "1       31.6036   11.7235  2.5185  0.5303  ...   -9.9574   6.3609  205.2610      g\n",
              "2      162.0520  136.0310  4.0612  0.0374  ...  -45.2160  76.9600  256.7880      g\n",
              "3       23.8172    9.5728  2.3385  0.6147  ...   -7.1513  10.4490  116.7370      g\n",
              "4       75.1362   30.9205  3.1611  0.3168  ...   21.8393   4.6480  356.4620      g\n",
              "...         ...       ...     ...     ...  ...       ...      ...       ...    ...\n",
              "19015   21.3846   10.9170  2.6161  0.5857  ...    2.8766   2.4229  106.8258      h\n",
              "19016   28.9452    6.7020  2.2672  0.5351  ...   -2.9632  86.7975  247.4560      h\n",
              "19017   75.4455   47.5305  3.4483  0.1417  ...   -9.4662  30.2987  256.5166      h\n",
              "19018  120.5135   76.9018  3.9939  0.0944  ...  -63.8389  84.6874  408.3166      h\n",
              "19019  187.1814   53.0014  3.2093  0.2876  ...   31.4755  52.7310  272.3174      h\n",
              "\n",
              "[19020 rows x 11 columns]"
            ],
            "text/html": [
              "\n",
              "  <div id=\"df-20abd386-99e8-4a53-9382-61d4150e8075\">\n",
              "    <div class=\"colab-df-container\">\n",
              "      <div>\n",
              "<style scoped>\n",
              "    .dataframe tbody tr th:only-of-type {\n",
              "        vertical-align: middle;\n",
              "    }\n",
              "\n",
              "    .dataframe tbody tr th {\n",
              "        vertical-align: top;\n",
              "    }\n",
              "\n",
              "    .dataframe thead th {\n",
              "        text-align: right;\n",
              "    }\n",
              "</style>\n",
              "<table border=\"1\" class=\"dataframe\">\n",
              "  <thead>\n",
              "    <tr style=\"text-align: right;\">\n",
              "      <th></th>\n",
              "      <th>flength</th>\n",
              "      <th>fwidth</th>\n",
              "      <th>fsize</th>\n",
              "      <th>fconc</th>\n",
              "      <th>fconc1</th>\n",
              "      <th>fsym</th>\n",
              "      <th>fm3long</th>\n",
              "      <th>fm3trans</th>\n",
              "      <th>falpha</th>\n",
              "      <th>dist</th>\n",
              "      <th>class</th>\n",
              "    </tr>\n",
              "  </thead>\n",
              "  <tbody>\n",
              "    <tr>\n",
              "      <th>0</th>\n",
              "      <td>28.7967</td>\n",
              "      <td>16.0021</td>\n",
              "      <td>2.6449</td>\n",
              "      <td>0.3918</td>\n",
              "      <td>0.1982</td>\n",
              "      <td>27.7004</td>\n",
              "      <td>22.0110</td>\n",
              "      <td>-8.2027</td>\n",
              "      <td>40.0920</td>\n",
              "      <td>81.8828</td>\n",
              "      <td>g</td>\n",
              "    </tr>\n",
              "    <tr>\n",
              "      <th>1</th>\n",
              "      <td>31.6036</td>\n",
              "      <td>11.7235</td>\n",
              "      <td>2.5185</td>\n",
              "      <td>0.5303</td>\n",
              "      <td>0.3773</td>\n",
              "      <td>26.2722</td>\n",
              "      <td>23.8238</td>\n",
              "      <td>-9.9574</td>\n",
              "      <td>6.3609</td>\n",
              "      <td>205.2610</td>\n",
              "      <td>g</td>\n",
              "    </tr>\n",
              "    <tr>\n",
              "      <th>2</th>\n",
              "      <td>162.0520</td>\n",
              "      <td>136.0310</td>\n",
              "      <td>4.0612</td>\n",
              "      <td>0.0374</td>\n",
              "      <td>0.0187</td>\n",
              "      <td>116.7410</td>\n",
              "      <td>-64.8580</td>\n",
              "      <td>-45.2160</td>\n",
              "      <td>76.9600</td>\n",
              "      <td>256.7880</td>\n",
              "      <td>g</td>\n",
              "    </tr>\n",
              "    <tr>\n",
              "      <th>3</th>\n",
              "      <td>23.8172</td>\n",
              "      <td>9.5728</td>\n",
              "      <td>2.3385</td>\n",
              "      <td>0.6147</td>\n",
              "      <td>0.3922</td>\n",
              "      <td>27.2107</td>\n",
              "      <td>-6.4633</td>\n",
              "      <td>-7.1513</td>\n",
              "      <td>10.4490</td>\n",
              "      <td>116.7370</td>\n",
              "      <td>g</td>\n",
              "    </tr>\n",
              "    <tr>\n",
              "      <th>4</th>\n",
              "      <td>75.1362</td>\n",
              "      <td>30.9205</td>\n",
              "      <td>3.1611</td>\n",
              "      <td>0.3168</td>\n",
              "      <td>0.1832</td>\n",
              "      <td>-5.5277</td>\n",
              "      <td>28.5525</td>\n",
              "      <td>21.8393</td>\n",
              "      <td>4.6480</td>\n",
              "      <td>356.4620</td>\n",
              "      <td>g</td>\n",
              "    </tr>\n",
              "    <tr>\n",
              "      <th>...</th>\n",
              "      <td>...</td>\n",
              "      <td>...</td>\n",
              "      <td>...</td>\n",
              "      <td>...</td>\n",
              "      <td>...</td>\n",
              "      <td>...</td>\n",
              "      <td>...</td>\n",
              "      <td>...</td>\n",
              "      <td>...</td>\n",
              "      <td>...</td>\n",
              "      <td>...</td>\n",
              "    </tr>\n",
              "    <tr>\n",
              "      <th>19015</th>\n",
              "      <td>21.3846</td>\n",
              "      <td>10.9170</td>\n",
              "      <td>2.6161</td>\n",
              "      <td>0.5857</td>\n",
              "      <td>0.3934</td>\n",
              "      <td>15.2618</td>\n",
              "      <td>11.5245</td>\n",
              "      <td>2.8766</td>\n",
              "      <td>2.4229</td>\n",
              "      <td>106.8258</td>\n",
              "      <td>h</td>\n",
              "    </tr>\n",
              "    <tr>\n",
              "      <th>19016</th>\n",
              "      <td>28.9452</td>\n",
              "      <td>6.7020</td>\n",
              "      <td>2.2672</td>\n",
              "      <td>0.5351</td>\n",
              "      <td>0.2784</td>\n",
              "      <td>37.0816</td>\n",
              "      <td>13.1853</td>\n",
              "      <td>-2.9632</td>\n",
              "      <td>86.7975</td>\n",
              "      <td>247.4560</td>\n",
              "      <td>h</td>\n",
              "    </tr>\n",
              "    <tr>\n",
              "      <th>19017</th>\n",
              "      <td>75.4455</td>\n",
              "      <td>47.5305</td>\n",
              "      <td>3.4483</td>\n",
              "      <td>0.1417</td>\n",
              "      <td>0.0549</td>\n",
              "      <td>-9.3561</td>\n",
              "      <td>41.0562</td>\n",
              "      <td>-9.4662</td>\n",
              "      <td>30.2987</td>\n",
              "      <td>256.5166</td>\n",
              "      <td>h</td>\n",
              "    </tr>\n",
              "    <tr>\n",
              "      <th>19018</th>\n",
              "      <td>120.5135</td>\n",
              "      <td>76.9018</td>\n",
              "      <td>3.9939</td>\n",
              "      <td>0.0944</td>\n",
              "      <td>0.0683</td>\n",
              "      <td>5.8043</td>\n",
              "      <td>-93.5224</td>\n",
              "      <td>-63.8389</td>\n",
              "      <td>84.6874</td>\n",
              "      <td>408.3166</td>\n",
              "      <td>h</td>\n",
              "    </tr>\n",
              "    <tr>\n",
              "      <th>19019</th>\n",
              "      <td>187.1814</td>\n",
              "      <td>53.0014</td>\n",
              "      <td>3.2093</td>\n",
              "      <td>0.2876</td>\n",
              "      <td>0.1539</td>\n",
              "      <td>-167.3125</td>\n",
              "      <td>-168.4558</td>\n",
              "      <td>31.4755</td>\n",
              "      <td>52.7310</td>\n",
              "      <td>272.3174</td>\n",
              "      <td>h</td>\n",
              "    </tr>\n",
              "  </tbody>\n",
              "</table>\n",
              "<p>19020 rows × 11 columns</p>\n",
              "</div>\n",
              "      <button class=\"colab-df-convert\" onclick=\"convertToInteractive('df-20abd386-99e8-4a53-9382-61d4150e8075')\"\n",
              "              title=\"Convert this dataframe to an interactive table.\"\n",
              "              style=\"display:none;\">\n",
              "        \n",
              "  <svg xmlns=\"http://www.w3.org/2000/svg\" height=\"24px\"viewBox=\"0 0 24 24\"\n",
              "       width=\"24px\">\n",
              "    <path d=\"M0 0h24v24H0V0z\" fill=\"none\"/>\n",
              "    <path d=\"M18.56 5.44l.94 2.06.94-2.06 2.06-.94-2.06-.94-.94-2.06-.94 2.06-2.06.94zm-11 1L8.5 8.5l.94-2.06 2.06-.94-2.06-.94L8.5 2.5l-.94 2.06-2.06.94zm10 10l.94 2.06.94-2.06 2.06-.94-2.06-.94-.94-2.06-.94 2.06-2.06.94z\"/><path d=\"M17.41 7.96l-1.37-1.37c-.4-.4-.92-.59-1.43-.59-.52 0-1.04.2-1.43.59L10.3 9.45l-7.72 7.72c-.78.78-.78 2.05 0 2.83L4 21.41c.39.39.9.59 1.41.59.51 0 1.02-.2 1.41-.59l7.78-7.78 2.81-2.81c.8-.78.8-2.07 0-2.86zM5.41 20L4 18.59l7.72-7.72 1.47 1.35L5.41 20z\"/>\n",
              "  </svg>\n",
              "      </button>\n",
              "      \n",
              "  <style>\n",
              "    .colab-df-container {\n",
              "      display:flex;\n",
              "      flex-wrap:wrap;\n",
              "      gap: 12px;\n",
              "    }\n",
              "\n",
              "    .colab-df-convert {\n",
              "      background-color: #E8F0FE;\n",
              "      border: none;\n",
              "      border-radius: 50%;\n",
              "      cursor: pointer;\n",
              "      display: none;\n",
              "      fill: #1967D2;\n",
              "      height: 32px;\n",
              "      padding: 0 0 0 0;\n",
              "      width: 32px;\n",
              "    }\n",
              "\n",
              "    .colab-df-convert:hover {\n",
              "      background-color: #E2EBFA;\n",
              "      box-shadow: 0px 1px 2px rgba(60, 64, 67, 0.3), 0px 1px 3px 1px rgba(60, 64, 67, 0.15);\n",
              "      fill: #174EA6;\n",
              "    }\n",
              "\n",
              "    [theme=dark] .colab-df-convert {\n",
              "      background-color: #3B4455;\n",
              "      fill: #D2E3FC;\n",
              "    }\n",
              "\n",
              "    [theme=dark] .colab-df-convert:hover {\n",
              "      background-color: #434B5C;\n",
              "      box-shadow: 0px 1px 3px 1px rgba(0, 0, 0, 0.15);\n",
              "      filter: drop-shadow(0px 1px 2px rgba(0, 0, 0, 0.3));\n",
              "      fill: #FFFFFF;\n",
              "    }\n",
              "  </style>\n",
              "\n",
              "      <script>\n",
              "        const buttonEl =\n",
              "          document.querySelector('#df-20abd386-99e8-4a53-9382-61d4150e8075 button.colab-df-convert');\n",
              "        buttonEl.style.display =\n",
              "          google.colab.kernel.accessAllowed ? 'block' : 'none';\n",
              "\n",
              "        async function convertToInteractive(key) {\n",
              "          const element = document.querySelector('#df-20abd386-99e8-4a53-9382-61d4150e8075');\n",
              "          const dataTable =\n",
              "            await google.colab.kernel.invokeFunction('convertToInteractive',\n",
              "                                                     [key], {});\n",
              "          if (!dataTable) return;\n",
              "\n",
              "          const docLinkHtml = 'Like what you see? Visit the ' +\n",
              "            '<a target=\"_blank\" href=https://colab.research.google.com/notebooks/data_table.ipynb>data table notebook</a>'\n",
              "            + ' to learn more about interactive tables.';\n",
              "          element.innerHTML = '';\n",
              "          dataTable['output_type'] = 'display_data';\n",
              "          await google.colab.output.renderOutput(dataTable, element);\n",
              "          const docLink = document.createElement('div');\n",
              "          docLink.innerHTML = docLinkHtml;\n",
              "          element.appendChild(docLink);\n",
              "        }\n",
              "      </script>\n",
              "    </div>\n",
              "  </div>\n",
              "  "
            ]
          },
          "metadata": {},
          "execution_count": 46
        }
      ]
    },
    {
      "cell_type": "code",
      "source": [
        "imdata.isna().sum()"
      ],
      "metadata": {
        "colab": {
          "base_uri": "https://localhost:8080/"
        },
        "id": "39YiCcE6RWUL",
        "outputId": "72d94130-de98-438c-e89b-ab3b4b1e810b"
      },
      "execution_count": 47,
      "outputs": [
        {
          "output_type": "execute_result",
          "data": {
            "text/plain": [
              "flength     0\n",
              "fwidth      0\n",
              "fsize       0\n",
              "fconc       0\n",
              "fconc1      0\n",
              "fsym        0\n",
              "fm3long     0\n",
              "fm3trans    0\n",
              "falpha      0\n",
              "dist        0\n",
              "class       0\n",
              "dtype: int64"
            ]
          },
          "metadata": {},
          "execution_count": 47
        }
      ]
    },
    {
      "cell_type": "code",
      "source": [
        "imdata.duplicated().sum()"
      ],
      "metadata": {
        "id": "B0bDidcMSRM-",
        "colab": {
          "base_uri": "https://localhost:8080/"
        },
        "outputId": "8758349f-609c-4adf-8e16-e4ff34187ffd"
      },
      "execution_count": 48,
      "outputs": [
        {
          "output_type": "execute_result",
          "data": {
            "text/plain": [
              "115"
            ]
          },
          "metadata": {},
          "execution_count": 48
        }
      ]
    },
    {
      "cell_type": "code",
      "source": [
        "import numpy as np\n",
        "import matplotlib.pyplot as plt\n",
        "imdata.dropna(inplace=True)\n",
        "imdata=imdata.drop_duplicates()\n",
        "imdata.columns"
      ],
      "metadata": {
        "colab": {
          "base_uri": "https://localhost:8080/"
        },
        "id": "UuAcOFFTapDY",
        "outputId": "a1c408a2-2e8a-4ef0-f213-8a1b903562de"
      },
      "execution_count": 49,
      "outputs": [
        {
          "output_type": "execute_result",
          "data": {
            "text/plain": [
              "Index(['flength', 'fwidth', 'fsize', 'fconc', 'fconc1', 'fsym', 'fm3long',\n",
              "       'fm3trans', 'falpha', 'dist', 'class'],\n",
              "      dtype='object')"
            ]
          },
          "metadata": {},
          "execution_count": 49
        }
      ]
    },
    {
      "cell_type": "code",
      "source": [
        "imdata.describe()"
      ],
      "metadata": {
        "colab": {
          "base_uri": "https://localhost:8080/",
          "height": 364
        },
        "id": "E2KyjBZpaxJR",
        "outputId": "11144405-e0f1-4176-bc0f-99de871d2d18"
      },
      "execution_count": 50,
      "outputs": [
        {
          "output_type": "execute_result",
          "data": {
            "text/plain": [
              "            flength        fwidth  ...        falpha          dist\n",
              "count  18905.000000  18905.000000  ...  18905.000000  18905.000000\n",
              "mean      53.161416     22.145872  ...     27.551644    193.712554\n",
              "std       42.259789     18.300664  ...     26.083055     74.685712\n",
              "min        4.283500      0.000000  ...      0.000000      1.282600\n",
              "25%       24.359700     11.874200  ...      5.516400    142.269000\n",
              "50%       37.129500     17.143800  ...     17.533000    191.832000\n",
              "75%       69.975400     24.712400  ...     45.704000    240.409000\n",
              "max      334.177000    256.382000  ...     90.000000    495.561000\n",
              "\n",
              "[8 rows x 10 columns]"
            ],
            "text/html": [
              "\n",
              "  <div id=\"df-46f15443-ea1b-4cd0-8a97-cf3bb481589b\">\n",
              "    <div class=\"colab-df-container\">\n",
              "      <div>\n",
              "<style scoped>\n",
              "    .dataframe tbody tr th:only-of-type {\n",
              "        vertical-align: middle;\n",
              "    }\n",
              "\n",
              "    .dataframe tbody tr th {\n",
              "        vertical-align: top;\n",
              "    }\n",
              "\n",
              "    .dataframe thead th {\n",
              "        text-align: right;\n",
              "    }\n",
              "</style>\n",
              "<table border=\"1\" class=\"dataframe\">\n",
              "  <thead>\n",
              "    <tr style=\"text-align: right;\">\n",
              "      <th></th>\n",
              "      <th>flength</th>\n",
              "      <th>fwidth</th>\n",
              "      <th>fsize</th>\n",
              "      <th>fconc</th>\n",
              "      <th>fconc1</th>\n",
              "      <th>fsym</th>\n",
              "      <th>fm3long</th>\n",
              "      <th>fm3trans</th>\n",
              "      <th>falpha</th>\n",
              "      <th>dist</th>\n",
              "    </tr>\n",
              "  </thead>\n",
              "  <tbody>\n",
              "    <tr>\n",
              "      <th>count</th>\n",
              "      <td>18905.000000</td>\n",
              "      <td>18905.000000</td>\n",
              "      <td>18905.000000</td>\n",
              "      <td>18905.000000</td>\n",
              "      <td>18905.000000</td>\n",
              "      <td>18905.000000</td>\n",
              "      <td>18905.000000</td>\n",
              "      <td>18905.000000</td>\n",
              "      <td>18905.000000</td>\n",
              "      <td>18905.000000</td>\n",
              "    </tr>\n",
              "    <tr>\n",
              "      <th>mean</th>\n",
              "      <td>53.161416</td>\n",
              "      <td>22.145872</td>\n",
              "      <td>2.824643</td>\n",
              "      <td>0.380247</td>\n",
              "      <td>0.214560</td>\n",
              "      <td>-4.177867</td>\n",
              "      <td>10.618826</td>\n",
              "      <td>0.259364</td>\n",
              "      <td>27.551644</td>\n",
              "      <td>193.712554</td>\n",
              "    </tr>\n",
              "    <tr>\n",
              "      <th>std</th>\n",
              "      <td>42.259789</td>\n",
              "      <td>18.300664</td>\n",
              "      <td>0.472377</td>\n",
              "      <td>0.182709</td>\n",
              "      <td>0.110384</td>\n",
              "      <td>59.010059</td>\n",
              "      <td>50.900687</td>\n",
              "      <td>20.775268</td>\n",
              "      <td>26.083055</td>\n",
              "      <td>74.685712</td>\n",
              "    </tr>\n",
              "    <tr>\n",
              "      <th>min</th>\n",
              "      <td>4.283500</td>\n",
              "      <td>0.000000</td>\n",
              "      <td>1.941300</td>\n",
              "      <td>0.013100</td>\n",
              "      <td>0.000300</td>\n",
              "      <td>-457.916100</td>\n",
              "      <td>-331.780000</td>\n",
              "      <td>-205.894700</td>\n",
              "      <td>0.000000</td>\n",
              "      <td>1.282600</td>\n",
              "    </tr>\n",
              "    <tr>\n",
              "      <th>25%</th>\n",
              "      <td>24.359700</td>\n",
              "      <td>11.874200</td>\n",
              "      <td>2.477100</td>\n",
              "      <td>0.235800</td>\n",
              "      <td>0.128500</td>\n",
              "      <td>-20.479100</td>\n",
              "      <td>-12.769300</td>\n",
              "      <td>-10.835800</td>\n",
              "      <td>5.516400</td>\n",
              "      <td>142.269000</td>\n",
              "    </tr>\n",
              "    <tr>\n",
              "      <th>50%</th>\n",
              "      <td>37.129500</td>\n",
              "      <td>17.143800</td>\n",
              "      <td>2.740000</td>\n",
              "      <td>0.354000</td>\n",
              "      <td>0.196400</td>\n",
              "      <td>4.062900</td>\n",
              "      <td>15.338000</td>\n",
              "      <td>0.750000</td>\n",
              "      <td>17.533000</td>\n",
              "      <td>191.832000</td>\n",
              "    </tr>\n",
              "    <tr>\n",
              "      <th>75%</th>\n",
              "      <td>69.975400</td>\n",
              "      <td>24.712400</td>\n",
              "      <td>3.101100</td>\n",
              "      <td>0.503500</td>\n",
              "      <td>0.285000</td>\n",
              "      <td>24.133500</td>\n",
              "      <td>35.869400</td>\n",
              "      <td>10.948900</td>\n",
              "      <td>45.704000</td>\n",
              "      <td>240.409000</td>\n",
              "    </tr>\n",
              "    <tr>\n",
              "      <th>max</th>\n",
              "      <td>334.177000</td>\n",
              "      <td>256.382000</td>\n",
              "      <td>5.323300</td>\n",
              "      <td>0.893000</td>\n",
              "      <td>0.675200</td>\n",
              "      <td>575.240700</td>\n",
              "      <td>238.321000</td>\n",
              "      <td>179.851000</td>\n",
              "      <td>90.000000</td>\n",
              "      <td>495.561000</td>\n",
              "    </tr>\n",
              "  </tbody>\n",
              "</table>\n",
              "</div>\n",
              "      <button class=\"colab-df-convert\" onclick=\"convertToInteractive('df-46f15443-ea1b-4cd0-8a97-cf3bb481589b')\"\n",
              "              title=\"Convert this dataframe to an interactive table.\"\n",
              "              style=\"display:none;\">\n",
              "        \n",
              "  <svg xmlns=\"http://www.w3.org/2000/svg\" height=\"24px\"viewBox=\"0 0 24 24\"\n",
              "       width=\"24px\">\n",
              "    <path d=\"M0 0h24v24H0V0z\" fill=\"none\"/>\n",
              "    <path d=\"M18.56 5.44l.94 2.06.94-2.06 2.06-.94-2.06-.94-.94-2.06-.94 2.06-2.06.94zm-11 1L8.5 8.5l.94-2.06 2.06-.94-2.06-.94L8.5 2.5l-.94 2.06-2.06.94zm10 10l.94 2.06.94-2.06 2.06-.94-2.06-.94-.94-2.06-.94 2.06-2.06.94z\"/><path d=\"M17.41 7.96l-1.37-1.37c-.4-.4-.92-.59-1.43-.59-.52 0-1.04.2-1.43.59L10.3 9.45l-7.72 7.72c-.78.78-.78 2.05 0 2.83L4 21.41c.39.39.9.59 1.41.59.51 0 1.02-.2 1.41-.59l7.78-7.78 2.81-2.81c.8-.78.8-2.07 0-2.86zM5.41 20L4 18.59l7.72-7.72 1.47 1.35L5.41 20z\"/>\n",
              "  </svg>\n",
              "      </button>\n",
              "      \n",
              "  <style>\n",
              "    .colab-df-container {\n",
              "      display:flex;\n",
              "      flex-wrap:wrap;\n",
              "      gap: 12px;\n",
              "    }\n",
              "\n",
              "    .colab-df-convert {\n",
              "      background-color: #E8F0FE;\n",
              "      border: none;\n",
              "      border-radius: 50%;\n",
              "      cursor: pointer;\n",
              "      display: none;\n",
              "      fill: #1967D2;\n",
              "      height: 32px;\n",
              "      padding: 0 0 0 0;\n",
              "      width: 32px;\n",
              "    }\n",
              "\n",
              "    .colab-df-convert:hover {\n",
              "      background-color: #E2EBFA;\n",
              "      box-shadow: 0px 1px 2px rgba(60, 64, 67, 0.3), 0px 1px 3px 1px rgba(60, 64, 67, 0.15);\n",
              "      fill: #174EA6;\n",
              "    }\n",
              "\n",
              "    [theme=dark] .colab-df-convert {\n",
              "      background-color: #3B4455;\n",
              "      fill: #D2E3FC;\n",
              "    }\n",
              "\n",
              "    [theme=dark] .colab-df-convert:hover {\n",
              "      background-color: #434B5C;\n",
              "      box-shadow: 0px 1px 3px 1px rgba(0, 0, 0, 0.15);\n",
              "      filter: drop-shadow(0px 1px 2px rgba(0, 0, 0, 0.3));\n",
              "      fill: #FFFFFF;\n",
              "    }\n",
              "  </style>\n",
              "\n",
              "      <script>\n",
              "        const buttonEl =\n",
              "          document.querySelector('#df-46f15443-ea1b-4cd0-8a97-cf3bb481589b button.colab-df-convert');\n",
              "        buttonEl.style.display =\n",
              "          google.colab.kernel.accessAllowed ? 'block' : 'none';\n",
              "\n",
              "        async function convertToInteractive(key) {\n",
              "          const element = document.querySelector('#df-46f15443-ea1b-4cd0-8a97-cf3bb481589b');\n",
              "          const dataTable =\n",
              "            await google.colab.kernel.invokeFunction('convertToInteractive',\n",
              "                                                     [key], {});\n",
              "          if (!dataTable) return;\n",
              "\n",
              "          const docLinkHtml = 'Like what you see? Visit the ' +\n",
              "            '<a target=\"_blank\" href=https://colab.research.google.com/notebooks/data_table.ipynb>data table notebook</a>'\n",
              "            + ' to learn more about interactive tables.';\n",
              "          element.innerHTML = '';\n",
              "          dataTable['output_type'] = 'display_data';\n",
              "          await google.colab.output.renderOutput(dataTable, element);\n",
              "          const docLink = document.createElement('div');\n",
              "          docLink.innerHTML = docLinkHtml;\n",
              "          element.appendChild(docLink);\n",
              "        }\n",
              "      </script>\n",
              "    </div>\n",
              "  </div>\n",
              "  "
            ]
          },
          "metadata": {},
          "execution_count": 50
        }
      ]
    },
    {
      "cell_type": "code",
      "source": [
        "data_final=imdata.copy()\n",
        "from sklearn.preprocessing import LabelEncoder\n",
        "lb=LabelEncoder()\n",
        "data_final['class']=lb.fit_transform(data_final['class'])"
      ],
      "metadata": {
        "id": "Fe5npRyBbmQr"
      },
      "execution_count": 51,
      "outputs": []
    },
    {
      "cell_type": "code",
      "source": [
        "from sklearn.preprocessing import StandardScaler\n",
        "scaler=StandardScaler()\n",
        "col=data_final\n",
        "data_final[['flength', 'fwidth', 'fsize', 'fconc', 'fconc1', 'fsym', 'fm3long',\n",
        "       'fm3trans', 'falpha', 'dist']]=scaler.fit_transform(data_final[['flength', 'fwidth', 'fsize', 'fconc', 'fconc1', 'fsym', 'fm3long',\n",
        "       'fm3trans', 'falpha', 'dist']])"
      ],
      "metadata": {
        "id": "wRLi2FQ8bVWw"
      },
      "execution_count": 55,
      "outputs": []
    },
    {
      "cell_type": "code",
      "source": [
        "x=data_final.drop(['class'],axis=1)\n",
        "y=data_final['class']\n",
        "from sklearn.model_selection import train_test_split\n",
        "x_train,x_test,y_train,y_test=train_test_split(x,y,test_size=0.2,random_state=42)"
      ],
      "metadata": {
        "id": "I0W8G2idb0S6"
      },
      "execution_count": 64,
      "outputs": []
    },
    {
      "cell_type": "code",
      "source": [
        "import tensorflow\n",
        "from tensorflow import keras\n",
        "from tensorflow.keras import Sequential\n",
        "from tensorflow.keras.layers import Dense"
      ],
      "metadata": {
        "id": "S7eJcA7jcNUI"
      },
      "execution_count": 65,
      "outputs": []
    },
    {
      "cell_type": "code",
      "source": [
        "model = Sequential()\n",
        "model.add(Dense(4,activation='relu',input_dim=10))\n",
        "model.add(Dense(4,activation='relu'))\n",
        "model.add(Dense(1,activation='sigmoid'))"
      ],
      "metadata": {
        "id": "VFb855l366PT"
      },
      "execution_count": 91,
      "outputs": []
    },
    {
      "cell_type": "code",
      "source": [
        "model.summary()"
      ],
      "metadata": {
        "colab": {
          "base_uri": "https://localhost:8080/"
        },
        "id": "KCd_n8yL7Z53",
        "outputId": "6a5a093d-92a1-4402-c6df-be9e107a381c"
      },
      "execution_count": 92,
      "outputs": [
        {
          "output_type": "stream",
          "name": "stdout",
          "text": [
            "Model: \"sequential_7\"\n",
            "_________________________________________________________________\n",
            " Layer (type)                Output Shape              Param #   \n",
            "=================================================================\n",
            " dense_15 (Dense)            (None, 4)                 44        \n",
            "                                                                 \n",
            " dense_16 (Dense)            (None, 4)                 20        \n",
            "                                                                 \n",
            " dense_17 (Dense)            (None, 1)                 5         \n",
            "                                                                 \n",
            "=================================================================\n",
            "Total params: 69\n",
            "Trainable params: 69\n",
            "Non-trainable params: 0\n",
            "_________________________________________________________________\n"
          ]
        }
      ]
    },
    {
      "cell_type": "code",
      "source": [
        "model.compile(loss='binary_crossentropy',optimizer='Adam',metrics=['accuracy'])"
      ],
      "metadata": {
        "id": "ciX7V_j072Uc"
      },
      "execution_count": 99,
      "outputs": []
    },
    {
      "cell_type": "code",
      "source": [
        "history = model.fit(x_train,y_train,batch_size=50,epochs=10,verbose=1,validation_split=0.2)"
      ],
      "metadata": {
        "colab": {
          "base_uri": "https://localhost:8080/"
        },
        "id": "KejJuUl8_-dv",
        "outputId": "bd2dc458-b971-4aec-9684-846d9ec8a81a"
      },
      "execution_count": 106,
      "outputs": [
        {
          "output_type": "stream",
          "name": "stdout",
          "text": [
            "Epoch 1/10\n",
            "242/242 [==============================] - 1s 3ms/step - loss: 0.3373 - accuracy: 0.8574 - val_loss: 0.3637 - val_accuracy: 0.8502\n",
            "Epoch 2/10\n",
            "242/242 [==============================] - 1s 3ms/step - loss: 0.3373 - accuracy: 0.8581 - val_loss: 0.3648 - val_accuracy: 0.8493\n",
            "Epoch 3/10\n",
            "242/242 [==============================] - 1s 2ms/step - loss: 0.3373 - accuracy: 0.8573 - val_loss: 0.3639 - val_accuracy: 0.8509\n",
            "Epoch 4/10\n",
            "242/242 [==============================] - 1s 2ms/step - loss: 0.3375 - accuracy: 0.8576 - val_loss: 0.3638 - val_accuracy: 0.8522\n",
            "Epoch 5/10\n",
            "242/242 [==============================] - 1s 3ms/step - loss: 0.3372 - accuracy: 0.8578 - val_loss: 0.3637 - val_accuracy: 0.8496\n",
            "Epoch 6/10\n",
            "242/242 [==============================] - 1s 2ms/step - loss: 0.3373 - accuracy: 0.8573 - val_loss: 0.3640 - val_accuracy: 0.8502\n",
            "Epoch 7/10\n",
            "242/242 [==============================] - 1s 3ms/step - loss: 0.3374 - accuracy: 0.8586 - val_loss: 0.3637 - val_accuracy: 0.8509\n",
            "Epoch 8/10\n",
            "242/242 [==============================] - 1s 3ms/step - loss: 0.3374 - accuracy: 0.8579 - val_loss: 0.3631 - val_accuracy: 0.8506\n",
            "Epoch 9/10\n",
            "242/242 [==============================] - 1s 3ms/step - loss: 0.3372 - accuracy: 0.8573 - val_loss: 0.3639 - val_accuracy: 0.8512\n",
            "Epoch 10/10\n",
            "242/242 [==============================] - 1s 3ms/step - loss: 0.3371 - accuracy: 0.8580 - val_loss: 0.3642 - val_accuracy: 0.8509\n"
          ]
        }
      ]
    },
    {
      "cell_type": "code",
      "source": [
        "\n",
        "plt.plot(history.history['loss'])\n",
        "plt.plot(history.history['val_loss'])"
      ],
      "metadata": {
        "colab": {
          "base_uri": "https://localhost:8080/",
          "height": 282
        },
        "id": "O7EAPJOcAFlk",
        "outputId": "12276605-b779-457b-ec51-0ecdecb1c814"
      },
      "execution_count": 107,
      "outputs": [
        {
          "output_type": "execute_result",
          "data": {
            "text/plain": [
              "[<matplotlib.lines.Line2D at 0x7f206ebc2a10>]"
            ]
          },
          "metadata": {},
          "execution_count": 107
        },
        {
          "output_type": "display_data",
          "data": {
            "text/plain": [
              "<Figure size 432x288 with 1 Axes>"
            ],
            "image/png": "[encoded data removed]"
          },
          "metadata": {
            "needs_background": "light"
          }
        }
      ]
    },
    {
      "cell_type": "code",
      "source": [
        "plt.plot(history.history['accuracy'])\n",
        "plt.plot(history.history['val_accuracy'])"
      ],
      "metadata": {
        "colab": {
          "base_uri": "https://localhost:8080/",
          "height": 282
        },
        "id": "CAB9A4DVBTWr",
        "outputId": "a6bc71c2-d5da-48c1-ae6c-ac7e550e97ec"
      },
      "execution_count": 108,
      "outputs": [
        {
          "output_type": "execute_result",
          "data": {
            "text/plain": [
              "[<matplotlib.lines.Line2D at 0x7f206ebd18d0>]"
            ]
          },
          "metadata": {},
          "execution_count": 108
        },
        {
          "output_type": "display_data",
          "data": {
            "text/plain": [
              "<Figure size 432x288 with 1 Axes>"
            ],
            "image/png": "[encoded data removed]"
          },
          "metadata": {
            "needs_background": "light"
          }
        }
      ]
    },
    {
      "cell_type": "code",
      "source": [
        "y_pred = model.predict(x_test)"
      ],
      "metadata": {
        "id": "wdL-20SQDzoG"
      },
      "execution_count": 110,
      "outputs": []
    },
    {
      "cell_type": "code",
      "source": [
        "from sklearn.metrics import classification_report\n",
        "predictions = (model.predict(x_test) > 0.5).astype('int32')"
      ],
      "metadata": {
        "id": "-MuzaN7gEGOu"
      },
      "execution_count": 116,
      "outputs": []
    },
    {
      "cell_type": "code",
      "source": [
        "print(classification_report(y_test, predictions))"
      ],
      "metadata": {
        "colab": {
          "base_uri": "https://localhost:8080/"
        },
        "id": "Hz0BeTQKEUey",
        "outputId": "df3ff79a-fc33-4dde-aa3c-a6a168ca1917"
      },
      "execution_count": 117,
      "outputs": [
        {
          "output_type": "stream",
          "name": "stdout",
          "text": [
            "              precision    recall  f1-score   support\n",
            "\n",
            "           0       0.87      0.93      0.90      2486\n",
            "           1       0.84      0.73      0.78      1295\n",
            "\n",
            "    accuracy                           0.86      3781\n",
            "   macro avg       0.85      0.83      0.84      3781\n",
            "weighted avg       0.86      0.86      0.86      3781\n",
            "\n"
          ]
        }
      ]
    },
    {
      "cell_type": "code",
      "source": [],
      "metadata": {
        "id": "6XDx0xM-E1E5"
      },
      "execution_count": null,
      "outputs": []
    }
  ]
}